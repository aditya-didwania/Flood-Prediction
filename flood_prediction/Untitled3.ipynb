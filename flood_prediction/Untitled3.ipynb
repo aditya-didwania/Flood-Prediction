{
 "cells": [
  {
   "cell_type": "code",
   "execution_count": 4,
   "metadata": {},
   "outputs": [
    {
     "data": {
      "text/plain": [
       "LabelEncoder()"
      ]
     },
     "execution_count": 4,
     "metadata": {},
     "output_type": "execute_result"
    }
   ],
   "source": [
    "from sklearn import preprocessing\n",
    "le = preprocessing.LabelEncoder()\n",
    "le.fit([1, 2, 3, 6])\n",
    "\n"
   ]
  },
  {
   "cell_type": "code",
   "execution_count": 51,
   "metadata": {},
   "outputs": [
    {
     "name": "stdout",
     "output_type": "stream",
     "text": [
      "(4187, 5)\n"
     ]
    }
   ],
   "source": [
    "global labelencoder_X_1,labelencoder_X_2,labelencoder_X_3,onehotencoder,sc_X\n",
    "import pandas as pd\n",
    "import numpy as np\n",
    "dataset = pd.read_csv('updated_test.csv')\n",
    "dataset = dataset[ dataset['YEAR']>1980 ]\n",
    "dataset = dataset.dropna()\n",
    "X = dataset.iloc[:,[0,3,4,6,7]].values\n",
    "y = dataset.iloc[:,5].values\n",
    "print(X.shape)\n",
    "from sklearn.preprocessing import LabelEncoder, OneHotEncoder\n",
    "labelencoder_X_0 = LabelEncoder()\n",
    "labelencoder_X_1 = LabelEncoder()\n",
    "labelencoder_X_2 = LabelEncoder()\n",
    "labelencoder_X_3 = LabelEncoder()"
   ]
  },
  {
   "cell_type": "code",
   "execution_count": 52,
   "metadata": {},
   "outputs": [
    {
     "name": "stdout",
     "output_type": "stream",
     "text": [
      "[25 'Mar-May' 43.8 'Hilly/plain' 'Hot & dry']\n",
      "[25 2 43.8 'Hilly/plain' 'Hot & dry']\n",
      "[25 2 43.8 8 'Hot & dry']\n",
      "[25 2 43.8 8 4]\n",
      "(4187, 5)\n",
      "(4187, 48)\n"
     ]
    }
   ],
   "source": [
    "X[:, 0] = labelencoder_X_0.fit_transform(X[:, 0])\n",
    "print(X[3580][:])\n",
    "X[:, 1] = labelencoder_X_1.fit_transform(X[:, 1])\n",
    "print(X[3580][:])\n",
    "X[:, 3] = labelencoder_X_2.fit_transform(X[:, 3])\n",
    "print(X[3580][:])\n",
    "X[:, 4] = labelencoder_X_3.fit_transform(X[:, 4])\n",
    "print(X[3580][:])\n",
    "print(X.shape)\n",
    "onehotencoder = OneHotEncoder(categorical_features = [0,1,3])\n",
    "X = onehotencoder.fit_transform(X).toarray()\n",
    "print(X.shape)"
   ]
  },
  {
   "cell_type": "code",
   "execution_count": 53,
   "metadata": {},
   "outputs": [
    {
     "data": {
      "text/plain": [
       "['Cool temperature',\n",
       " 'Diverse',\n",
       " 'Dry',\n",
       " 'Extremes',\n",
       " 'Hot & dry',\n",
       " 'Hot & humid',\n",
       " 'Hot and dry',\n",
       " 'Humid',\n",
       " 'Mild',\n",
       " 'Mild/cold',\n",
       " 'Moderate',\n",
       " 'Rainy',\n",
       " 'Rainy Tropical',\n",
       " 'Sub-tropical',\n",
       " 'Sub-tropical/snowy',\n",
       " 'Subtropical',\n",
       " 'Tropical',\n",
       " 'Warm']"
      ]
     },
     "execution_count": 53,
     "metadata": {},
     "output_type": "execute_result"
    }
   ],
   "source": [
    "list(labelencoder_X_3.classes_)"
   ]
  },
  {
   "cell_type": "code",
   "execution_count": 54,
   "metadata": {},
   "outputs": [
    {
     "name": "stdout",
     "output_type": "stream",
     "text": [
      "(4187, 47)\n",
      "[[-0.18599335 -0.18599335 -0.18599335 ... -0.18599335 -0.58882407\n",
      "   1.39247199]\n",
      " [-0.18599335 -0.18599335 -0.18599335 ... -0.18599335  0.02901846\n",
      "   1.39247199]\n",
      " [-0.18599335 -0.18599335 -0.18599335 ... -0.18599335  2.93408466\n",
      "   1.39247199]\n",
      " ...\n",
      " [-0.18599335 -0.18599335 -0.18599335 ... -0.18599335 -0.48138959\n",
      "  -1.09762732]\n",
      " [-0.18599335 -0.18599335 -0.18599335 ... -0.18599335  0.15982466\n",
      "  -1.09762732]\n",
      " [-0.18599335 -0.18599335 -0.18599335 ... -0.18599335 -0.63971409\n",
      "  -1.09762732]]\n"
     ]
    }
   ],
   "source": [
    "from sklearn.preprocessing import StandardScaler\n",
    "sc_X = StandardScaler()\n",
    "X = X[:,1:]\n",
    "X = sc_X.fit_transform(X)\n",
    "print(X.shape)\n",
    "print(X)"
   ]
  },
  {
   "cell_type": "code",
   "execution_count": 59,
   "metadata": {},
   "outputs": [
    {
     "name": "stdout",
     "output_type": "stream",
     "text": [
      "['KERALA', 'Oct-Dec', '413.09999999999997', 'Hilly/coastal', 'Humid']\n",
      "[['16' '3' '413.09999999999997' '7' '7']]\n",
      "[[-0.18599335 -0.18599335 -0.18599335 -0.18599335 -0.18599335 -0.18322652\n",
      "  -0.18599335 -0.18599335 -0.18599335 -0.18599335 -0.18599335 -0.18599335\n",
      "  -0.18599335 -0.18322652 -0.18599335  5.37653633 -0.18599335 -0.18599335\n",
      "  -0.185305   -0.18599335 -0.18599335 -0.18599335 -0.18599335 -0.18599335\n",
      "  -0.18599335 -0.18599335 -0.18322652 -0.18599335 -0.18599335 -0.5774422\n",
      "  -0.5774422  -0.57707449  1.73177507 -0.49910421 -0.18599335 -0.26770551\n",
      "  -0.18599335 -0.18599335 -0.18599335 -0.65461644  5.37653633 -0.18599335\n",
      "  -0.18599335 -0.44650846 -0.18599335  0.1164739  -0.33144292]]\n"
     ]
    }
   ],
   "source": [
    "x=['KERALA', 'Oct-Dec', '413.09999999999997' ,'Hilly/coastal' ,'Humid']\n",
    "from sklearn.preprocessing import StandardScaler\n",
    "print(x)\n",
    "#preprocessing x\n",
    "x = np.reshape(x,(-1,5))\n",
    "x[:, 0] = labelencoder_X_0.transform(x[:, 0])\n",
    "x[:, 1] = labelencoder_X_1.transform(x[:, 1])\n",
    "x[:, 3] = labelencoder_X_2.transform(x[:, 3])\n",
    "x[:, 4] = labelencoder_X_3.transform(x[:, 4])\n",
    "print(x)\n",
    "x = onehotencoder.transform(x).toarray()\n",
    "x = x[:,1:]\n",
    "x = sc_X.transform(x)\n",
    "print(x)\n"
   ]
  },
  {
   "cell_type": "code",
   "execution_count": null,
   "metadata": {},
   "outputs": [],
   "source": []
  }
 ],
 "metadata": {
  "kernelspec": {
   "display_name": "Python 3",
   "language": "python",
   "name": "python3"
  },
  "language_info": {
   "codemirror_mode": {
    "name": "ipython",
    "version": 3
   },
   "file_extension": ".py",
   "mimetype": "text/x-python",
   "name": "python",
   "nbconvert_exporter": "python",
   "pygments_lexer": "ipython3",
   "version": "3.5.3"
  }
 },
 "nbformat": 4,
 "nbformat_minor": 4
}
